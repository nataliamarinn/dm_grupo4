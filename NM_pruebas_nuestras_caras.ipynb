{
  "nbformat": 4,
  "nbformat_minor": 0,
  "metadata": {
    "colab": {
      "provenance": [],
      "authorship_tag": "ABX9TyO2n0RiILRF2jFf1nSjHwN8",
      "include_colab_link": true
    },
    "kernelspec": {
      "name": "python3",
      "display_name": "Python 3"
    },
    "language_info": {
      "name": "python"
    }
  },
  "cells": [
    {
      "cell_type": "markdown",
      "metadata": {
        "id": "view-in-github",
        "colab_type": "text"
      },
      "source": [
        "<a href=\"https://colab.research.google.com/github/nataliamarinn/dm_grupo4/blob/main/NM_pruebas_nuestras_caras.ipynb\" target=\"_parent\"><img src=\"https://colab.research.google.com/assets/colab-badge.svg\" alt=\"Open In Colab\"/></a>"
      ]
    },
    {
      "cell_type": "markdown",
      "source": [
        "# ***Código para lectura de imágenes y aplicación de CP***\n"
      ],
      "metadata": {
        "id": "ji1nbFJ7px6e"
      }
    },
    {
      "cell_type": "markdown",
      "source": [
        "En este notebook se realiza la lectura de imágenes desde una carpeta, se seleccionan fotos para training y testing, se recortan los rostros, se convierten a escala de grises y luego se aplica el **Análisis de componentes principales** (PCA)"
      ],
      "metadata": {
        "id": "Qp5mEmVzp4gZ"
      }
    },
    {
      "cell_type": "markdown",
      "source": [
        "\n",
        "\n",
        "## Tarea 1: importar y leer carpeta de fotos\n"
      ],
      "metadata": {
        "id": "ttg2aWixqTuT"
      }
    },
    {
      "cell_type": "code",
      "source": [],
      "metadata": {
        "id": "k3--ZKjbp35X"
      },
      "execution_count": null,
      "outputs": []
    },
    {
      "cell_type": "code",
      "execution_count": null,
      "metadata": {
        "id": "2F0IhdMbpHuP"
      },
      "outputs": [],
      "source": []
    },
    {
      "cell_type": "markdown",
      "source": [
        "## Tarea 2: recortar las imágenes sólo quedándonos con el rostro"
      ],
      "metadata": {
        "id": "ji3ZKBUrqq0C"
      }
    },
    {
      "cell_type": "code",
      "source": [],
      "metadata": {
        "id": "p_wNMCFVqqa0"
      },
      "execution_count": null,
      "outputs": []
    },
    {
      "cell_type": "markdown",
      "source": [
        "# Tarea 3: pasar a escala de grises las imágenes"
      ],
      "metadata": {
        "id": "7Sc-JDmpq11S"
      }
    },
    {
      "cell_type": "markdown",
      "source": [
        "## Tarea 4: seleccionar muestra para training y testing"
      ],
      "metadata": {
        "id": "-1H5N_otqaQf"
      }
    },
    {
      "cell_type": "markdown",
      "source": [
        "Definir el criterio de selección para cada una de las carpetas, hay que asegurarse de tomar una foto de cada uno de los alumnos"
      ],
      "metadata": {
        "id": "QHbYLJJSqei8"
      }
    },
    {
      "cell_type": "code",
      "source": [],
      "metadata": {
        "id": "ozlse0Ewqnn4"
      },
      "execution_count": null,
      "outputs": []
    },
    {
      "cell_type": "markdown",
      "source": [
        "## Tarea 5: aplicar componentes principales\n"
      ],
      "metadata": {
        "id": "HcRjsLopq6LY"
      }
    },
    {
      "cell_type": "markdown",
      "source": [
        "#"
      ],
      "metadata": {
        "id": "ygwnjML8qoB5"
      }
    }
  ]
}